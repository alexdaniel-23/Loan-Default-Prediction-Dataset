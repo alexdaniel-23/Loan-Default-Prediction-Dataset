{
 "cells": [
  {
   "cell_type": "markdown",
   "metadata": {},
   "source": [
    "# **PREDICCIÓN DE INCUMPLIMIENTOS DE PAGO EDA-ML**"
   ]
  },
  {
   "cell_type": "markdown",
   "metadata": {},
   "source": [
    "## **INTRODUCCIÓN**\n",
    "*Las compañias del sectot financiero, ya sean estas entidades gubernamentales o privadas que realizan prestámos financieros, buscan poder reducir los impagos de los prestamos brindados y asegurar que estos sean pagados dentro de los plazos estipulados, pero, realmente ¿Se puede predecir quienes dejaran de pagar sus prestamos? y la respuesta, es: Sí. Ya que muchas empresas utilizan modelos de  Machine Learning (Aprendizaje Automatico) o Deep Learning (Aprendizaje Profundo) y en base a data historica de clientes se puede predecir quienes presentan mayor riesgo de incumplimiento de un prestamo.*\n",
    "\n",
    "## **ACERCA DEL DATASET** \n",
    "*Este conjunto de datos proviene del \"Desafío de predicción de morosidad de préstamos\" de Coursera extraido de la plataforma Kaggle (url del Dataset:https://www.kaggle.com/datasets/nikhil1e9/loan-default/data)y en esta oportunidad evaluareamos diferente modelos de Machine Learning para poder predecir mediante una clasificacioón, que clientes presentan mayor riesgo de impago de un prestamo.*"
   ]
  },
  {
   "cell_type": "markdown",
   "metadata": {},
   "source": [
    "## **OBJETIVOS DEL PROYECTO**\n",
    "* *EL objetivo principal es construir un modelo de Machine Learnig de clasificación binaria el cual ayude a las entidades financieras en clasificar a un posible cliente que presente incumpliento de pago de su prestamo.*"
   ]
  },
  {
   "cell_type": "markdown",
   "metadata": {},
   "source": [
    "### **TABLA DE CONTENIDOS**"
   ]
  },
  {
   "cell_type": "markdown",
   "metadata": {},
   "source": [
    "**LIBRERIAS A USAR EN EL EDA**"
   ]
  },
  {
   "cell_type": "code",
   "execution_count": 1,
   "metadata": {},
   "outputs": [],
   "source": [
    "import pandas as pd \n",
    "import numpy as np\n",
    "import matplotlib.pyplot as plt\n",
    "import seaborn as sns "
   ]
  },
  {
   "cell_type": "markdown",
   "metadata": {},
   "source": [
    "**EXTRACCIÓN DE LA DATA**"
   ]
  },
  {
   "cell_type": "code",
   "execution_count": 2,
   "metadata": {},
   "outputs": [],
   "source": [
    "df=pd.read_csv(r\"E:\\FONDO TALENTO DIGITAL\\Portafolio_GITHUB\\Fraude de pagos\\Loan-Default-Prediction-Dataset\\Loan_default.csv\")"
   ]
  },
  {
   "cell_type": "markdown",
   "metadata": {},
   "source": [
    "**EXPLORATORY DATA ANALISIS**"
   ]
  },
  {
   "cell_type": "code",
   "execution_count": 3,
   "metadata": {},
   "outputs": [
    {
     "data": {
      "text/html": [
       "<div>\n",
       "<style scoped>\n",
       "    .dataframe tbody tr th:only-of-type {\n",
       "        vertical-align: middle;\n",
       "    }\n",
       "\n",
       "    .dataframe tbody tr th {\n",
       "        vertical-align: top;\n",
       "    }\n",
       "\n",
       "    .dataframe thead th {\n",
       "        text-align: right;\n",
       "    }\n",
       "</style>\n",
       "<table border=\"1\" class=\"dataframe\">\n",
       "  <thead>\n",
       "    <tr style=\"text-align: right;\">\n",
       "      <th></th>\n",
       "      <th>LoanID</th>\n",
       "      <th>Age</th>\n",
       "      <th>Income</th>\n",
       "      <th>LoanAmount</th>\n",
       "      <th>CreditScore</th>\n",
       "      <th>MonthsEmployed</th>\n",
       "      <th>NumCreditLines</th>\n",
       "      <th>InterestRate</th>\n",
       "      <th>LoanTerm</th>\n",
       "      <th>DTIRatio</th>\n",
       "      <th>Education</th>\n",
       "      <th>EmploymentType</th>\n",
       "      <th>MaritalStatus</th>\n",
       "      <th>HasMortgage</th>\n",
       "      <th>HasDependents</th>\n",
       "      <th>LoanPurpose</th>\n",
       "      <th>HasCoSigner</th>\n",
       "      <th>Default</th>\n",
       "    </tr>\n",
       "  </thead>\n",
       "  <tbody>\n",
       "    <tr>\n",
       "      <th>0</th>\n",
       "      <td>I38PQUQS96</td>\n",
       "      <td>56</td>\n",
       "      <td>85994</td>\n",
       "      <td>50587</td>\n",
       "      <td>520</td>\n",
       "      <td>80</td>\n",
       "      <td>4</td>\n",
       "      <td>15.23</td>\n",
       "      <td>36</td>\n",
       "      <td>0.44</td>\n",
       "      <td>Bachelor's</td>\n",
       "      <td>Full-time</td>\n",
       "      <td>Divorced</td>\n",
       "      <td>Yes</td>\n",
       "      <td>Yes</td>\n",
       "      <td>Other</td>\n",
       "      <td>Yes</td>\n",
       "      <td>0</td>\n",
       "    </tr>\n",
       "    <tr>\n",
       "      <th>1</th>\n",
       "      <td>HPSK72WA7R</td>\n",
       "      <td>69</td>\n",
       "      <td>50432</td>\n",
       "      <td>124440</td>\n",
       "      <td>458</td>\n",
       "      <td>15</td>\n",
       "      <td>1</td>\n",
       "      <td>4.81</td>\n",
       "      <td>60</td>\n",
       "      <td>0.68</td>\n",
       "      <td>Master's</td>\n",
       "      <td>Full-time</td>\n",
       "      <td>Married</td>\n",
       "      <td>No</td>\n",
       "      <td>No</td>\n",
       "      <td>Other</td>\n",
       "      <td>Yes</td>\n",
       "      <td>0</td>\n",
       "    </tr>\n",
       "    <tr>\n",
       "      <th>2</th>\n",
       "      <td>C1OZ6DPJ8Y</td>\n",
       "      <td>46</td>\n",
       "      <td>84208</td>\n",
       "      <td>129188</td>\n",
       "      <td>451</td>\n",
       "      <td>26</td>\n",
       "      <td>3</td>\n",
       "      <td>21.17</td>\n",
       "      <td>24</td>\n",
       "      <td>0.31</td>\n",
       "      <td>Master's</td>\n",
       "      <td>Unemployed</td>\n",
       "      <td>Divorced</td>\n",
       "      <td>Yes</td>\n",
       "      <td>Yes</td>\n",
       "      <td>Auto</td>\n",
       "      <td>No</td>\n",
       "      <td>1</td>\n",
       "    </tr>\n",
       "  </tbody>\n",
       "</table>\n",
       "</div>"
      ],
      "text/plain": [
       "       LoanID  Age  Income  LoanAmount  CreditScore  MonthsEmployed  \\\n",
       "0  I38PQUQS96   56   85994       50587          520              80   \n",
       "1  HPSK72WA7R   69   50432      124440          458              15   \n",
       "2  C1OZ6DPJ8Y   46   84208      129188          451              26   \n",
       "\n",
       "   NumCreditLines  InterestRate  LoanTerm  DTIRatio   Education  \\\n",
       "0               4         15.23        36      0.44  Bachelor's   \n",
       "1               1          4.81        60      0.68    Master's   \n",
       "2               3         21.17        24      0.31    Master's   \n",
       "\n",
       "  EmploymentType MaritalStatus HasMortgage HasDependents LoanPurpose  \\\n",
       "0      Full-time      Divorced         Yes           Yes       Other   \n",
       "1      Full-time       Married          No            No       Other   \n",
       "2     Unemployed      Divorced         Yes           Yes        Auto   \n",
       "\n",
       "  HasCoSigner  Default  \n",
       "0         Yes        0  \n",
       "1         Yes        0  \n",
       "2          No        1  "
      ]
     },
     "execution_count": 3,
     "metadata": {},
     "output_type": "execute_result"
    }
   ],
   "source": [
    "df.head(3)"
   ]
  },
  {
   "cell_type": "code",
   "execution_count": 4,
   "metadata": {},
   "outputs": [
    {
     "data": {
      "text/html": [
       "<div>\n",
       "<style scoped>\n",
       "    .dataframe tbody tr th:only-of-type {\n",
       "        vertical-align: middle;\n",
       "    }\n",
       "\n",
       "    .dataframe tbody tr th {\n",
       "        vertical-align: top;\n",
       "    }\n",
       "\n",
       "    .dataframe thead th {\n",
       "        text-align: right;\n",
       "    }\n",
       "</style>\n",
       "<table border=\"1\" class=\"dataframe\">\n",
       "  <thead>\n",
       "    <tr style=\"text-align: right;\">\n",
       "      <th></th>\n",
       "      <th>LoanID</th>\n",
       "      <th>Age</th>\n",
       "      <th>Income</th>\n",
       "      <th>LoanAmount</th>\n",
       "      <th>CreditScore</th>\n",
       "      <th>MonthsEmployed</th>\n",
       "      <th>NumCreditLines</th>\n",
       "      <th>InterestRate</th>\n",
       "      <th>LoanTerm</th>\n",
       "      <th>DTIRatio</th>\n",
       "      <th>Education</th>\n",
       "      <th>EmploymentType</th>\n",
       "      <th>MaritalStatus</th>\n",
       "      <th>HasMortgage</th>\n",
       "      <th>HasDependents</th>\n",
       "      <th>LoanPurpose</th>\n",
       "      <th>HasCoSigner</th>\n",
       "      <th>Default</th>\n",
       "    </tr>\n",
       "  </thead>\n",
       "  <tbody>\n",
       "    <tr>\n",
       "      <th>255342</th>\n",
       "      <td>8C6S86ESGC</td>\n",
       "      <td>19</td>\n",
       "      <td>37979</td>\n",
       "      <td>210682</td>\n",
       "      <td>541</td>\n",
       "      <td>109</td>\n",
       "      <td>4</td>\n",
       "      <td>14.11</td>\n",
       "      <td>12</td>\n",
       "      <td>0.85</td>\n",
       "      <td>Bachelor's</td>\n",
       "      <td>Full-time</td>\n",
       "      <td>Married</td>\n",
       "      <td>No</td>\n",
       "      <td>No</td>\n",
       "      <td>Other</td>\n",
       "      <td>No</td>\n",
       "      <td>0</td>\n",
       "    </tr>\n",
       "    <tr>\n",
       "      <th>255343</th>\n",
       "      <td>98R4KDHNND</td>\n",
       "      <td>32</td>\n",
       "      <td>51953</td>\n",
       "      <td>189899</td>\n",
       "      <td>511</td>\n",
       "      <td>14</td>\n",
       "      <td>2</td>\n",
       "      <td>11.55</td>\n",
       "      <td>24</td>\n",
       "      <td>0.21</td>\n",
       "      <td>High School</td>\n",
       "      <td>Part-time</td>\n",
       "      <td>Divorced</td>\n",
       "      <td>No</td>\n",
       "      <td>No</td>\n",
       "      <td>Home</td>\n",
       "      <td>No</td>\n",
       "      <td>1</td>\n",
       "    </tr>\n",
       "    <tr>\n",
       "      <th>255344</th>\n",
       "      <td>XQK1UUUNGP</td>\n",
       "      <td>56</td>\n",
       "      <td>84820</td>\n",
       "      <td>208294</td>\n",
       "      <td>597</td>\n",
       "      <td>70</td>\n",
       "      <td>3</td>\n",
       "      <td>5.29</td>\n",
       "      <td>60</td>\n",
       "      <td>0.50</td>\n",
       "      <td>High School</td>\n",
       "      <td>Self-employed</td>\n",
       "      <td>Married</td>\n",
       "      <td>Yes</td>\n",
       "      <td>Yes</td>\n",
       "      <td>Auto</td>\n",
       "      <td>Yes</td>\n",
       "      <td>0</td>\n",
       "    </tr>\n",
       "    <tr>\n",
       "      <th>255345</th>\n",
       "      <td>JAO28CPL4H</td>\n",
       "      <td>42</td>\n",
       "      <td>85109</td>\n",
       "      <td>60575</td>\n",
       "      <td>809</td>\n",
       "      <td>40</td>\n",
       "      <td>1</td>\n",
       "      <td>20.90</td>\n",
       "      <td>48</td>\n",
       "      <td>0.44</td>\n",
       "      <td>High School</td>\n",
       "      <td>Part-time</td>\n",
       "      <td>Single</td>\n",
       "      <td>Yes</td>\n",
       "      <td>Yes</td>\n",
       "      <td>Other</td>\n",
       "      <td>No</td>\n",
       "      <td>0</td>\n",
       "    </tr>\n",
       "    <tr>\n",
       "      <th>255346</th>\n",
       "      <td>ZTH91CGL0B</td>\n",
       "      <td>62</td>\n",
       "      <td>22418</td>\n",
       "      <td>18481</td>\n",
       "      <td>636</td>\n",
       "      <td>113</td>\n",
       "      <td>2</td>\n",
       "      <td>6.73</td>\n",
       "      <td>12</td>\n",
       "      <td>0.48</td>\n",
       "      <td>Bachelor's</td>\n",
       "      <td>Unemployed</td>\n",
       "      <td>Divorced</td>\n",
       "      <td>Yes</td>\n",
       "      <td>No</td>\n",
       "      <td>Education</td>\n",
       "      <td>Yes</td>\n",
       "      <td>0</td>\n",
       "    </tr>\n",
       "  </tbody>\n",
       "</table>\n",
       "</div>"
      ],
      "text/plain": [
       "            LoanID  Age  Income  LoanAmount  CreditScore  MonthsEmployed  \\\n",
       "255342  8C6S86ESGC   19   37979      210682          541             109   \n",
       "255343  98R4KDHNND   32   51953      189899          511              14   \n",
       "255344  XQK1UUUNGP   56   84820      208294          597              70   \n",
       "255345  JAO28CPL4H   42   85109       60575          809              40   \n",
       "255346  ZTH91CGL0B   62   22418       18481          636             113   \n",
       "\n",
       "        NumCreditLines  InterestRate  LoanTerm  DTIRatio    Education  \\\n",
       "255342               4         14.11        12      0.85   Bachelor's   \n",
       "255343               2         11.55        24      0.21  High School   \n",
       "255344               3          5.29        60      0.50  High School   \n",
       "255345               1         20.90        48      0.44  High School   \n",
       "255346               2          6.73        12      0.48   Bachelor's   \n",
       "\n",
       "       EmploymentType MaritalStatus HasMortgage HasDependents LoanPurpose  \\\n",
       "255342      Full-time       Married          No            No       Other   \n",
       "255343      Part-time      Divorced          No            No        Home   \n",
       "255344  Self-employed       Married         Yes           Yes        Auto   \n",
       "255345      Part-time        Single         Yes           Yes       Other   \n",
       "255346     Unemployed      Divorced         Yes            No   Education   \n",
       "\n",
       "       HasCoSigner  Default  \n",
       "255342          No        0  \n",
       "255343          No        1  \n",
       "255344         Yes        0  \n",
       "255345          No        0  \n",
       "255346         Yes        0  "
      ]
     },
     "execution_count": 4,
     "metadata": {},
     "output_type": "execute_result"
    }
   ],
   "source": [
    "df.tail()"
   ]
  },
  {
   "cell_type": "code",
   "execution_count": 11,
   "metadata": {},
   "outputs": [
    {
     "name": "stdout",
     "output_type": "stream",
     "text": [
      "Nuestro Dataset contiene: 255347 filas\n",
      "Nuestro Dataset contiene: 18 columnas\n"
     ]
    }
   ],
   "source": [
    "df.shape\n",
    "print(f\"Nuestro Dataset contiene: {df.shape[0]} filas\")\n",
    "print(f\"Nuestro Dataset contiene: {df.shape[1]} columnas\")"
   ]
  },
  {
   "cell_type": "code",
   "execution_count": 14,
   "metadata": {},
   "outputs": [
    {
     "name": "stdout",
     "output_type": "stream",
     "text": [
      "Las columnas del Dataset son: [Index(['LoanID', 'Age', 'Income', 'LoanAmount', 'CreditScore',\n",
      "       'MonthsEmployed', 'NumCreditLines', 'InterestRate', 'LoanTerm',\n",
      "       'DTIRatio', 'Education', 'EmploymentType', 'MaritalStatus',\n",
      "       'HasMortgage', 'HasDependents', 'LoanPurpose', 'HasCoSigner',\n",
      "       'Default'],\n",
      "      dtype='object')]\n"
     ]
    }
   ],
   "source": [
    "df.columns\n",
    "print(f\"Las columnas del Dataset son: [{df.columns}]\")"
   ]
  },
  {
   "cell_type": "markdown",
   "metadata": {},
   "source": [
    "**DESCRIPCIÓN DE LAS COLUMNAS**\n",
    "* 0 - **LoanID** : Identificador unico para cada prestamo\n",
    "* 1 - **Age**:Edad \n",
    "* 2 - **Income** : Ingresos anuales del prestamista \n",
    "* 3 - **LoanAmount** : Cantidad de dinero prestado\n",
    "* 4 - **CreditScore** : El puntaje crediticio del prestatario\n",
    "* 5 - **MonthsEmployed** : Numero de meses del prestatario ha estado empleado\n",
    "* 6 - **NumCreditLines** : Numero de cantidad de lienas de credito\n",
    "* 7 - **InterestRate** : El interes impuesto al prestatario\n",
    "* 8 - **LoanTerm** : La duracion del prestamo en meses\n",
    "* 9 - **DTIRatio** : la relación deuda-ingresos, que indica la deuda del prestatario en comparación con sus ingresos\n",
    "* 10 - **Education** : el nivel más alto de educación alcanzado por el prestatario\n",
    "* 11 - **EmploymentType** : el tipo de estado laboral del prestatario\n",
    "* 12 - **MaritalStatus** : el estado civil del prestatario\n",
    "* 13 - **HasMortgage** : si el prestatario tiene una hipoteca\n",
    "* 14 - **HasDependents** : si el préstamo tiene dependientes\n",
    "* 15 - **LoanPurpose** : el propósito del préstamo\n",
    "* 16 - **HasCoSigner** : si el préstamo tiene un co-firmante\n",
    "* 17 - **Default (Target)** : La variable objetivo binaria que indica si el préstamo incumplió."
   ]
  },
  {
   "cell_type": "code",
   "execution_count": 15,
   "metadata": {},
   "outputs": [
    {
     "data": {
      "text/plain": [
       "0"
      ]
     },
     "execution_count": 15,
     "metadata": {},
     "output_type": "execute_result"
    }
   ],
   "source": [
    "df.duplicated().sum()"
   ]
  },
  {
   "cell_type": "code",
   "execution_count": 16,
   "metadata": {},
   "outputs": [
    {
     "data": {
      "text/plain": [
       "LoanID            0\n",
       "Age               0\n",
       "Income            0\n",
       "LoanAmount        0\n",
       "CreditScore       0\n",
       "MonthsEmployed    0\n",
       "NumCreditLines    0\n",
       "InterestRate      0\n",
       "LoanTerm          0\n",
       "DTIRatio          0\n",
       "Education         0\n",
       "EmploymentType    0\n",
       "MaritalStatus     0\n",
       "HasMortgage       0\n",
       "HasDependents     0\n",
       "LoanPurpose       0\n",
       "HasCoSigner       0\n",
       "Default           0\n",
       "dtype: int64"
      ]
     },
     "execution_count": 16,
     "metadata": {},
     "output_type": "execute_result"
    }
   ],
   "source": [
    "df.isnull().sum()"
   ]
  },
  {
   "cell_type": "code",
   "execution_count": 17,
   "metadata": {},
   "outputs": [
    {
     "name": "stdout",
     "output_type": "stream",
     "text": [
      "<class 'pandas.core.frame.DataFrame'>\n",
      "RangeIndex: 255347 entries, 0 to 255346\n",
      "Data columns (total 18 columns):\n",
      " #   Column          Non-Null Count   Dtype  \n",
      "---  ------          --------------   -----  \n",
      " 0   LoanID          255347 non-null  object \n",
      " 1   Age             255347 non-null  int64  \n",
      " 2   Income          255347 non-null  int64  \n",
      " 3   LoanAmount      255347 non-null  int64  \n",
      " 4   CreditScore     255347 non-null  int64  \n",
      " 5   MonthsEmployed  255347 non-null  int64  \n",
      " 6   NumCreditLines  255347 non-null  int64  \n",
      " 7   InterestRate    255347 non-null  float64\n",
      " 8   LoanTerm        255347 non-null  int64  \n",
      " 9   DTIRatio        255347 non-null  float64\n",
      " 10  Education       255347 non-null  object \n",
      " 11  EmploymentType  255347 non-null  object \n",
      " 12  MaritalStatus   255347 non-null  object \n",
      " 13  HasMortgage     255347 non-null  object \n",
      " 14  HasDependents   255347 non-null  object \n",
      " 15  LoanPurpose     255347 non-null  object \n",
      " 16  HasCoSigner     255347 non-null  object \n",
      " 17  Default         255347 non-null  int64  \n",
      "dtypes: float64(2), int64(8), object(8)\n",
      "memory usage: 35.1+ MB\n"
     ]
    }
   ],
   "source": [
    "df.info()"
   ]
  },
  {
   "cell_type": "markdown",
   "metadata": {},
   "source": [
    "**Conclusion inicial del analis exploratorio**\n",
    "*Observamos que nuestro Dataset contiene 255347 filas unicas sin valores duplicados y que no existen valores nulos dentro de las columnas del Dataset, por otro lado observamos que tenemos caracteristicas unicamente del tipo Object, Int y Float, tambien que nuestra variable objetivo o target es **Default*** "
   ]
  },
  {
   "cell_type": "markdown",
   "metadata": {},
   "source": [
    "**ANALISIS DE VARIABLES CATEGORICAS**"
   ]
  },
  {
   "cell_type": "code",
   "execution_count": 28,
   "metadata": {},
   "outputs": [
    {
     "data": {
      "text/plain": [
       "Index(['LoanID', 'Education', 'EmploymentType', 'MaritalStatus', 'HasMortgage',\n",
       "       'HasDependents', 'LoanPurpose', 'HasCoSigner'],\n",
       "      dtype='object')"
      ]
     },
     "execution_count": 28,
     "metadata": {},
     "output_type": "execute_result"
    }
   ],
   "source": [
    "cat_columns =df.select_dtypes(exclude=[\"int64\",\"float64\"])\n",
    "cat_columns.columns"
   ]
  },
  {
   "cell_type": "code",
   "execution_count": 30,
   "metadata": {},
   "outputs": [
    {
     "name": "stdout",
     "output_type": "stream",
     "text": [
      "Conteo de valores unicos para la columna'LoanID': \n",
      "LoanID\n",
      "I38PQUQS96    1\n",
      "WGB0GD3150    1\n",
      "XATSFC5YHN    1\n",
      "CQXDW5VBAG    1\n",
      "6AIVUNAJG8    1\n",
      "             ..\n",
      "ZBK3GDL2LI    1\n",
      "SP7XY2LPYA    1\n",
      "Q2DO8ENMV1    1\n",
      "5EXD8N4MT4    1\n",
      "ZTH91CGL0B    1\n",
      "Name: count, Length: 255347, dtype: int64\n",
      "..............................\n",
      "Conteo de valores unicos para la columna'Education': \n",
      "Education\n",
      "Bachelor's     64366\n",
      "High School    63903\n",
      "Master's       63541\n",
      "PhD            63537\n",
      "Name: count, dtype: int64\n",
      "..............................\n",
      "Conteo de valores unicos para la columna'EmploymentType': \n",
      "EmploymentType\n",
      "Part-time        64161\n",
      "Unemployed       63824\n",
      "Self-employed    63706\n",
      "Full-time        63656\n",
      "Name: count, dtype: int64\n",
      "..............................\n",
      "Conteo de valores unicos para la columna'MaritalStatus': \n",
      "MaritalStatus\n",
      "Married     85302\n",
      "Divorced    85033\n",
      "Single      85012\n",
      "Name: count, dtype: int64\n",
      "..............................\n",
      "Conteo de valores unicos para la columna'HasMortgage': \n",
      "HasMortgage\n",
      "Yes    127677\n",
      "No     127670\n",
      "Name: count, dtype: int64\n",
      "..............................\n",
      "Conteo de valores unicos para la columna'HasDependents': \n",
      "HasDependents\n",
      "Yes    127742\n",
      "No     127605\n",
      "Name: count, dtype: int64\n",
      "..............................\n",
      "Conteo de valores unicos para la columna'LoanPurpose': \n",
      "LoanPurpose\n",
      "Business     51298\n",
      "Home         51286\n",
      "Education    51005\n",
      "Other        50914\n",
      "Auto         50844\n",
      "Name: count, dtype: int64\n",
      "..............................\n",
      "Conteo de valores unicos para la columna'HasCoSigner': \n",
      "HasCoSigner\n",
      "Yes    127701\n",
      "No     127646\n",
      "Name: count, dtype: int64\n",
      "..............................\n"
     ]
    }
   ],
   "source": [
    "for cat_col in cat_columns:\n",
    "    print(f\"Conteo de valores unicos para la columna'{cat_col}': \")\n",
    "    print(df[cat_col].value_counts())\n",
    "    print(\".\"*30)"
   ]
  },
  {
   "cell_type": "code",
   "execution_count": null,
   "metadata": {},
   "outputs": [],
   "source": []
  }
 ],
 "metadata": {
  "kernelspec": {
   "display_name": "Python 3",
   "language": "python",
   "name": "python3"
  },
  "language_info": {
   "codemirror_mode": {
    "name": "ipython",
    "version": 3
   },
   "file_extension": ".py",
   "mimetype": "text/x-python",
   "name": "python",
   "nbconvert_exporter": "python",
   "pygments_lexer": "ipython3",
   "version": "3.12.0"
  }
 },
 "nbformat": 4,
 "nbformat_minor": 2
}
